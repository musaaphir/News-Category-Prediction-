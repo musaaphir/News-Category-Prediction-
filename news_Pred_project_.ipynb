{
 "cells": [
  {
   "cell_type": "markdown",
   "id": "114ea7c1",
   "metadata": {},
   "source": [
    "# News Category Prediction"
   ]
  },
  {
   "cell_type": "markdown",
   "id": "99e31ccd",
   "metadata": {},
   "source": [
    "# Objective"
   ]
  },
  {
   "cell_type": "markdown",
   "id": "211f00c4",
   "metadata": {},
   "source": [
    "The objective of the project is to build a smart News Category prediction application using some Machine Learning techniques. Wherein for a new news text it will be able to predict the proper category.(Sport\\Business\\Politics\\Tech\\Entertainment)"
   ]
  },
  {
   "cell_type": "code",
   "execution_count": 1,
   "id": "3e90da84",
   "metadata": {},
   "outputs": [],
   "source": [
    "import pandas as pd\n",
    "from sklearn.feature_extraction.text import TfidfVectorizer,CountVectorizer\n",
    "from sklearn.model_selection import train_test_split\n",
    "from sklearn.naive_bayes import MultinomialNB\n",
    "from sklearn import metrics\n",
    "from sklearn.naive_bayes import GaussianNB"
   ]
  },
  {
   "cell_type": "code",
   "execution_count": 2,
   "id": "6e10d7a3",
   "metadata": {},
   "outputs": [],
   "source": [
    "df=pd.read_csv(\"news-data.csv\")"
   ]
  },
  {
   "cell_type": "code",
   "execution_count": 3,
   "id": "389346ee",
   "metadata": {},
   "outputs": [
    {
     "data": {
      "text/html": [
       "<div>\n",
       "<style scoped>\n",
       "    .dataframe tbody tr th:only-of-type {\n",
       "        vertical-align: middle;\n",
       "    }\n",
       "\n",
       "    .dataframe tbody tr th {\n",
       "        vertical-align: top;\n",
       "    }\n",
       "\n",
       "    .dataframe thead th {\n",
       "        text-align: right;\n",
       "    }\n",
       "</style>\n",
       "<table border=\"1\" class=\"dataframe\">\n",
       "  <thead>\n",
       "    <tr style=\"text-align: right;\">\n",
       "      <th></th>\n",
       "      <th>category</th>\n",
       "      <th>text</th>\n",
       "    </tr>\n",
       "  </thead>\n",
       "  <tbody>\n",
       "    <tr>\n",
       "      <th>0</th>\n",
       "      <td>tech</td>\n",
       "      <td>tv future in the hands of viewers with home th...</td>\n",
       "    </tr>\n",
       "    <tr>\n",
       "      <th>1</th>\n",
       "      <td>business</td>\n",
       "      <td>worldcom boss  left books alone  former worldc...</td>\n",
       "    </tr>\n",
       "    <tr>\n",
       "      <th>2</th>\n",
       "      <td>sport</td>\n",
       "      <td>tigers wary of farrell  gamble  leicester say ...</td>\n",
       "    </tr>\n",
       "    <tr>\n",
       "      <th>3</th>\n",
       "      <td>sport</td>\n",
       "      <td>yeading face newcastle in fa cup premiership s...</td>\n",
       "    </tr>\n",
       "    <tr>\n",
       "      <th>4</th>\n",
       "      <td>entertainment</td>\n",
       "      <td>ocean s twelve raids box office ocean s twelve...</td>\n",
       "    </tr>\n",
       "  </tbody>\n",
       "</table>\n",
       "</div>"
      ],
      "text/plain": [
       "        category                                               text\n",
       "0           tech  tv future in the hands of viewers with home th...\n",
       "1       business  worldcom boss  left books alone  former worldc...\n",
       "2          sport  tigers wary of farrell  gamble  leicester say ...\n",
       "3          sport  yeading face newcastle in fa cup premiership s...\n",
       "4  entertainment  ocean s twelve raids box office ocean s twelve..."
      ]
     },
     "execution_count": 3,
     "metadata": {},
     "output_type": "execute_result"
    }
   ],
   "source": [
    "df.head(5)"
   ]
  },
  {
   "cell_type": "code",
   "execution_count": 4,
   "id": "ba592e29",
   "metadata": {},
   "outputs": [
    {
     "data": {
      "text/plain": [
       "(2225, 2)"
      ]
     },
     "execution_count": 4,
     "metadata": {},
     "output_type": "execute_result"
    }
   ],
   "source": [
    "df.shape"
   ]
  },
  {
   "cell_type": "code",
   "execution_count": 5,
   "id": "4103008a",
   "metadata": {},
   "outputs": [
    {
     "data": {
      "text/plain": [
       "sport            511\n",
       "business         510\n",
       "politics         417\n",
       "tech             401\n",
       "entertainment    386\n",
       "Name: category, dtype: int64"
      ]
     },
     "execution_count": 5,
     "metadata": {},
     "output_type": "execute_result"
    }
   ],
   "source": [
    "df['category'].value_counts()"
   ]
  },
  {
   "cell_type": "code",
   "execution_count": 6,
   "id": "7eb33cc9",
   "metadata": {},
   "outputs": [
    {
     "data": {
      "text/html": [
       "<div>\n",
       "<style scoped>\n",
       "    .dataframe tbody tr th:only-of-type {\n",
       "        vertical-align: middle;\n",
       "    }\n",
       "\n",
       "    .dataframe tbody tr th {\n",
       "        vertical-align: top;\n",
       "    }\n",
       "\n",
       "    .dataframe thead th {\n",
       "        text-align: right;\n",
       "    }\n",
       "</style>\n",
       "<table border=\"1\" class=\"dataframe\">\n",
       "  <thead>\n",
       "    <tr style=\"text-align: right;\">\n",
       "      <th></th>\n",
       "      <th>category</th>\n",
       "      <th>text</th>\n",
       "    </tr>\n",
       "  </thead>\n",
       "  <tbody>\n",
       "    <tr>\n",
       "      <th>0</th>\n",
       "      <td>tech</td>\n",
       "      <td>tv future in the hands of viewers with home th...</td>\n",
       "    </tr>\n",
       "    <tr>\n",
       "      <th>1</th>\n",
       "      <td>business</td>\n",
       "      <td>worldcom boss  left books alone  former worldc...</td>\n",
       "    </tr>\n",
       "    <tr>\n",
       "      <th>2</th>\n",
       "      <td>sport</td>\n",
       "      <td>tigers wary of farrell  gamble  leicester say ...</td>\n",
       "    </tr>\n",
       "    <tr>\n",
       "      <th>3</th>\n",
       "      <td>sport</td>\n",
       "      <td>yeading face newcastle in fa cup premiership s...</td>\n",
       "    </tr>\n",
       "    <tr>\n",
       "      <th>4</th>\n",
       "      <td>entertainment</td>\n",
       "      <td>ocean s twelve raids box office ocean s twelve...</td>\n",
       "    </tr>\n",
       "  </tbody>\n",
       "</table>\n",
       "</div>"
      ],
      "text/plain": [
       "        category                                               text\n",
       "0           tech  tv future in the hands of viewers with home th...\n",
       "1       business  worldcom boss  left books alone  former worldc...\n",
       "2          sport  tigers wary of farrell  gamble  leicester say ...\n",
       "3          sport  yeading face newcastle in fa cup premiership s...\n",
       "4  entertainment  ocean s twelve raids box office ocean s twelve..."
      ]
     },
     "execution_count": 6,
     "metadata": {},
     "output_type": "execute_result"
    }
   ],
   "source": [
    "df.head()"
   ]
  },
  {
   "cell_type": "code",
   "execution_count": 7,
   "id": "7759f80b",
   "metadata": {},
   "outputs": [
    {
     "name": "stdout",
     "output_type": "stream",
     "text": [
      "0       tv future in the hands of viewers with home th...\n",
      "1       worldcom boss  left books alone  former worldc...\n",
      "2       tigers wary of farrell  gamble  leicester say ...\n",
      "3       yeading face newcastle in fa cup premiership s...\n",
      "4       ocean s twelve raids box office ocean s twelve...\n",
      "                              ...                        \n",
      "2220    cars pull down us retail figures us retail sal...\n",
      "2221    kilroy unveils immigration policy ex-chatshow ...\n",
      "2222    rem announce new glasgow concert us band rem h...\n",
      "2223    how political squabbles snowball it s become c...\n",
      "2224    souness delight at euro progress boss graeme s...\n",
      "Name: text, Length: 2225, dtype: object\n",
      "0                tech\n",
      "1            business\n",
      "2               sport\n",
      "3               sport\n",
      "4       entertainment\n",
      "            ...      \n",
      "2220         business\n",
      "2221         politics\n",
      "2222    entertainment\n",
      "2223         politics\n",
      "2224            sport\n",
      "Name: category, Length: 2225, dtype: object\n"
     ]
    }
   ],
   "source": [
    "x=df.text\n",
    "y=df.category\n",
    "print(x) \n",
    "print(y) #[Depentdent],(Target)"
   ]
  },
  {
   "cell_type": "code",
   "execution_count": 8,
   "id": "3285675d",
   "metadata": {},
   "outputs": [],
   "source": [
    "vectorizer=TfidfVectorizer()"
   ]
  },
  {
   "cell_type": "code",
   "execution_count": 9,
   "id": "ffae2ae4",
   "metadata": {},
   "outputs": [],
   "source": [
    "X=vectorizer.fit_transform(x)"
   ]
  },
  {
   "cell_type": "code",
   "execution_count": 10,
   "id": "37423ff1",
   "metadata": {},
   "outputs": [
    {
     "data": {
      "text/html": [
       "<div>\n",
       "<style scoped>\n",
       "    .dataframe tbody tr th:only-of-type {\n",
       "        vertical-align: middle;\n",
       "    }\n",
       "\n",
       "    .dataframe tbody tr th {\n",
       "        vertical-align: top;\n",
       "    }\n",
       "\n",
       "    .dataframe thead th {\n",
       "        text-align: right;\n",
       "    }\n",
       "</style>\n",
       "<table border=\"1\" class=\"dataframe\">\n",
       "  <thead>\n",
       "    <tr style=\"text-align: right;\">\n",
       "      <th></th>\n",
       "      <th>00</th>\n",
       "      <th>000</th>\n",
       "      <th>0001</th>\n",
       "      <th>000bn</th>\n",
       "      <th>000m</th>\n",
       "      <th>000s</th>\n",
       "      <th>000th</th>\n",
       "      <th>001</th>\n",
       "      <th>001and</th>\n",
       "      <th>001st</th>\n",
       "      <th>...</th>\n",
       "      <th>zooms</th>\n",
       "      <th>zooropa</th>\n",
       "      <th>zornotza</th>\n",
       "      <th>zorro</th>\n",
       "      <th>zubair</th>\n",
       "      <th>zuluaga</th>\n",
       "      <th>zurich</th>\n",
       "      <th>zutons</th>\n",
       "      <th>zvonareva</th>\n",
       "      <th>zvyagintsev</th>\n",
       "    </tr>\n",
       "  </thead>\n",
       "  <tbody>\n",
       "    <tr>\n",
       "      <th>0</th>\n",
       "      <td>0.0</td>\n",
       "      <td>0.016533</td>\n",
       "      <td>0.0</td>\n",
       "      <td>0.0</td>\n",
       "      <td>0.0</td>\n",
       "      <td>0.0</td>\n",
       "      <td>0.0</td>\n",
       "      <td>0.0</td>\n",
       "      <td>0.0</td>\n",
       "      <td>0.0</td>\n",
       "      <td>...</td>\n",
       "      <td>0.0</td>\n",
       "      <td>0.0</td>\n",
       "      <td>0.0</td>\n",
       "      <td>0.0</td>\n",
       "      <td>0.0</td>\n",
       "      <td>0.0</td>\n",
       "      <td>0.0</td>\n",
       "      <td>0.0</td>\n",
       "      <td>0.0</td>\n",
       "      <td>0.0</td>\n",
       "    </tr>\n",
       "    <tr>\n",
       "      <th>1</th>\n",
       "      <td>0.0</td>\n",
       "      <td>0.022889</td>\n",
       "      <td>0.0</td>\n",
       "      <td>0.0</td>\n",
       "      <td>0.0</td>\n",
       "      <td>0.0</td>\n",
       "      <td>0.0</td>\n",
       "      <td>0.0</td>\n",
       "      <td>0.0</td>\n",
       "      <td>0.0</td>\n",
       "      <td>...</td>\n",
       "      <td>0.0</td>\n",
       "      <td>0.0</td>\n",
       "      <td>0.0</td>\n",
       "      <td>0.0</td>\n",
       "      <td>0.0</td>\n",
       "      <td>0.0</td>\n",
       "      <td>0.0</td>\n",
       "      <td>0.0</td>\n",
       "      <td>0.0</td>\n",
       "      <td>0.0</td>\n",
       "    </tr>\n",
       "    <tr>\n",
       "      <th>2</th>\n",
       "      <td>0.0</td>\n",
       "      <td>0.000000</td>\n",
       "      <td>0.0</td>\n",
       "      <td>0.0</td>\n",
       "      <td>0.0</td>\n",
       "      <td>0.0</td>\n",
       "      <td>0.0</td>\n",
       "      <td>0.0</td>\n",
       "      <td>0.0</td>\n",
       "      <td>0.0</td>\n",
       "      <td>...</td>\n",
       "      <td>0.0</td>\n",
       "      <td>0.0</td>\n",
       "      <td>0.0</td>\n",
       "      <td>0.0</td>\n",
       "      <td>0.0</td>\n",
       "      <td>0.0</td>\n",
       "      <td>0.0</td>\n",
       "      <td>0.0</td>\n",
       "      <td>0.0</td>\n",
       "      <td>0.0</td>\n",
       "    </tr>\n",
       "    <tr>\n",
       "      <th>3</th>\n",
       "      <td>0.0</td>\n",
       "      <td>0.000000</td>\n",
       "      <td>0.0</td>\n",
       "      <td>0.0</td>\n",
       "      <td>0.0</td>\n",
       "      <td>0.0</td>\n",
       "      <td>0.0</td>\n",
       "      <td>0.0</td>\n",
       "      <td>0.0</td>\n",
       "      <td>0.0</td>\n",
       "      <td>...</td>\n",
       "      <td>0.0</td>\n",
       "      <td>0.0</td>\n",
       "      <td>0.0</td>\n",
       "      <td>0.0</td>\n",
       "      <td>0.0</td>\n",
       "      <td>0.0</td>\n",
       "      <td>0.0</td>\n",
       "      <td>0.0</td>\n",
       "      <td>0.0</td>\n",
       "      <td>0.0</td>\n",
       "    </tr>\n",
       "    <tr>\n",
       "      <th>4</th>\n",
       "      <td>0.0</td>\n",
       "      <td>0.000000</td>\n",
       "      <td>0.0</td>\n",
       "      <td>0.0</td>\n",
       "      <td>0.0</td>\n",
       "      <td>0.0</td>\n",
       "      <td>0.0</td>\n",
       "      <td>0.0</td>\n",
       "      <td>0.0</td>\n",
       "      <td>0.0</td>\n",
       "      <td>...</td>\n",
       "      <td>0.0</td>\n",
       "      <td>0.0</td>\n",
       "      <td>0.0</td>\n",
       "      <td>0.0</td>\n",
       "      <td>0.0</td>\n",
       "      <td>0.0</td>\n",
       "      <td>0.0</td>\n",
       "      <td>0.0</td>\n",
       "      <td>0.0</td>\n",
       "      <td>0.0</td>\n",
       "    </tr>\n",
       "  </tbody>\n",
       "</table>\n",
       "<p>5 rows × 29421 columns</p>\n",
       "</div>"
      ],
      "text/plain": [
       "    00       000  0001  000bn  000m  000s  000th  001  001and  001st  ...  \\\n",
       "0  0.0  0.016533   0.0    0.0   0.0   0.0    0.0  0.0     0.0    0.0  ...   \n",
       "1  0.0  0.022889   0.0    0.0   0.0   0.0    0.0  0.0     0.0    0.0  ...   \n",
       "2  0.0  0.000000   0.0    0.0   0.0   0.0    0.0  0.0     0.0    0.0  ...   \n",
       "3  0.0  0.000000   0.0    0.0   0.0   0.0    0.0  0.0     0.0    0.0  ...   \n",
       "4  0.0  0.000000   0.0    0.0   0.0   0.0    0.0  0.0     0.0    0.0  ...   \n",
       "\n",
       "   zooms  zooropa  zornotza  zorro  zubair  zuluaga  zurich  zutons  \\\n",
       "0    0.0      0.0       0.0    0.0     0.0      0.0     0.0     0.0   \n",
       "1    0.0      0.0       0.0    0.0     0.0      0.0     0.0     0.0   \n",
       "2    0.0      0.0       0.0    0.0     0.0      0.0     0.0     0.0   \n",
       "3    0.0      0.0       0.0    0.0     0.0      0.0     0.0     0.0   \n",
       "4    0.0      0.0       0.0    0.0     0.0      0.0     0.0     0.0   \n",
       "\n",
       "   zvonareva  zvyagintsev  \n",
       "0        0.0          0.0  \n",
       "1        0.0          0.0  \n",
       "2        0.0          0.0  \n",
       "3        0.0          0.0  \n",
       "4        0.0          0.0  \n",
       "\n",
       "[5 rows x 29421 columns]"
      ]
     },
     "execution_count": 10,
     "metadata": {},
     "output_type": "execute_result"
    }
   ],
   "source": [
    "df0=pd.DataFrame(X.toarray(),columns=vectorizer.get_feature_names())\n",
    "df0.head()"
   ]
  },
  {
   "cell_type": "code",
   "execution_count": 11,
   "id": "ca99d691",
   "metadata": {},
   "outputs": [],
   "source": [
    "x_train, x_test, y_train, y_test = train_test_split(X, y, test_size=0.3, random_state=42)"
   ]
  },
  {
   "cell_type": "markdown",
   "id": "ed004732",
   "metadata": {},
   "source": [
    "# MultinomialNB"
   ]
  },
  {
   "cell_type": "code",
   "execution_count": 12,
   "id": "bebb6ac8",
   "metadata": {},
   "outputs": [
    {
     "data": {
      "text/plain": [
       "MultinomialNB()"
      ]
     },
     "execution_count": 12,
     "metadata": {},
     "output_type": "execute_result"
    }
   ],
   "source": [
    "clf = MultinomialNB()\n",
    "clf.fit(x_train, y_train)"
   ]
  },
  {
   "cell_type": "code",
   "execution_count": 13,
   "id": "fee07f1e",
   "metadata": {},
   "outputs": [],
   "source": [
    "y_pred_MultinomialNB = clf.predict(x_test)"
   ]
  },
  {
   "cell_type": "code",
   "execution_count": 14,
   "id": "5d5ba439",
   "metadata": {},
   "outputs": [
    {
     "data": {
      "text/plain": [
       "array(['politics', 'business', 'entertainment', 'tech', 'sport',\n",
       "       'business', 'business', 'sport', 'sport', 'tech', 'entertainment',\n",
       "       'entertainment', 'entertainment', 'entertainment', 'entertainment',\n",
       "       'sport', 'politics', 'sport', 'entertainment', 'politics',\n",
       "       'entertainment', 'sport', 'business', 'politics', 'politics',\n",
       "       'politics', 'politics', 'sport', 'politics', 'sport', 'politics',\n",
       "       'tech', 'politics', 'entertainment', 'business', 'entertainment',\n",
       "       'tech', 'business', 'tech', 'sport', 'business', 'sport',\n",
       "       'entertainment', 'business', 'entertainment', 'sport', 'business',\n",
       "       'sport', 'entertainment', 'sport', 'politics', 'sport',\n",
       "       'entertainment', 'entertainment', 'entertainment', 'business',\n",
       "       'politics', 'business', 'entertainment', 'business',\n",
       "       'entertainment', 'business', 'business', 'business', 'politics',\n",
       "       'sport', 'sport', 'entertainment', 'business', 'business', 'sport',\n",
       "       'business', 'tech', 'tech', 'tech', 'politics', 'tech',\n",
       "       'entertainment', 'business', 'tech', 'business', 'politics',\n",
       "       'politics', 'entertainment', 'politics', 'sport', 'sport',\n",
       "       'entertainment', 'sport', 'sport', 'politics', 'entertainment',\n",
       "       'tech', 'business', 'politics', 'business', 'sport', 'politics',\n",
       "       'politics', 'tech', 'business', 'tech', 'sport', 'sport', 'tech',\n",
       "       'business', 'politics', 'business', 'entertainment', 'politics',\n",
       "       'sport', 'politics', 'politics', 'sport', 'tech', 'sport', 'sport',\n",
       "       'business', 'politics', 'politics', 'politics', 'sport',\n",
       "       'politics', 'entertainment', 'entertainment', 'sport', 'tech',\n",
       "       'politics', 'sport', 'politics', 'tech', 'politics', 'business',\n",
       "       'business', 'sport', 'tech', 'entertainment', 'business',\n",
       "       'politics', 'politics', 'sport', 'business', 'sport',\n",
       "       'entertainment', 'entertainment', 'sport', 'politics',\n",
       "       'entertainment', 'tech', 'business', 'entertainment', 'tech',\n",
       "       'entertainment', 'business', 'tech', 'politics', 'sport',\n",
       "       'politics', 'politics', 'sport', 'politics', 'tech', 'sport',\n",
       "       'sport', 'business', 'sport', 'tech', 'sport', 'politics', 'sport',\n",
       "       'business', 'politics', 'business', 'politics', 'business',\n",
       "       'sport', 'sport', 'entertainment', 'business', 'sport', 'tech',\n",
       "       'tech', 'politics', 'tech', 'politics', 'tech', 'tech', 'tech',\n",
       "       'entertainment', 'politics', 'tech', 'tech', 'sport', 'business',\n",
       "       'politics', 'tech', 'politics', 'tech', 'politics', 'sport',\n",
       "       'politics', 'tech', 'tech', 'sport', 'sport', 'business',\n",
       "       'entertainment', 'sport', 'business', 'sport', 'politics',\n",
       "       'entertainment', 'business', 'politics', 'sport', 'business',\n",
       "       'business', 'entertainment', 'sport', 'politics', 'sport',\n",
       "       'politics', 'politics', 'politics', 'sport', 'entertainment',\n",
       "       'tech', 'politics', 'politics', 'business', 'tech', 'politics',\n",
       "       'tech', 'entertainment', 'business', 'sport', 'sport', 'politics',\n",
       "       'sport', 'sport', 'politics', 'business', 'business',\n",
       "       'entertainment', 'entertainment', 'sport', 'politics', 'tech',\n",
       "       'sport', 'business', 'politics', 'business', 'sport', 'tech',\n",
       "       'sport', 'business', 'business', 'sport', 'tech', 'tech',\n",
       "       'entertainment', 'tech', 'entertainment', 'politics',\n",
       "       'entertainment', 'politics', 'politics', 'sport', 'business',\n",
       "       'politics', 'tech', 'tech', 'politics', 'entertainment',\n",
       "       'entertainment', 'sport', 'sport', 'business', 'sport', 'tech',\n",
       "       'entertainment', 'sport', 'sport', 'sport', 'sport', 'politics',\n",
       "       'politics', 'entertainment', 'sport', 'entertainment', 'business',\n",
       "       'sport', 'sport', 'politics', 'business', 'sport', 'tech',\n",
       "       'business', 'business', 'business', 'politics', 'business', 'tech',\n",
       "       'politics', 'tech', 'politics', 'politics', 'tech', 'tech',\n",
       "       'politics', 'business', 'sport', 'sport', 'business', 'tech',\n",
       "       'business', 'business', 'politics', 'entertainment', 'politics',\n",
       "       'sport', 'sport', 'sport', 'entertainment', 'sport', 'sport',\n",
       "       'sport', 'sport', 'sport', 'sport', 'entertainment',\n",
       "       'entertainment', 'sport', 'business', 'business', 'business',\n",
       "       'sport', 'tech', 'tech', 'sport', 'tech', 'tech', 'tech',\n",
       "       'politics', 'sport', 'entertainment', 'sport', 'business',\n",
       "       'politics', 'tech', 'tech', 'politics', 'sport', 'sport',\n",
       "       'business', 'entertainment', 'sport', 'business', 'politics',\n",
       "       'politics', 'business', 'business', 'tech', 'politics', 'sport',\n",
       "       'sport', 'politics', 'sport', 'tech', 'sport', 'business', 'tech',\n",
       "       'business', 'tech', 'tech', 'politics', 'business', 'business',\n",
       "       'entertainment', 'politics', 'politics', 'politics', 'business',\n",
       "       'entertainment', 'business', 'politics', 'tech', 'business',\n",
       "       'tech', 'business', 'business', 'sport', 'tech', 'sport',\n",
       "       'business', 'business', 'entertainment', 'politics', 'business',\n",
       "       'politics', 'entertainment', 'politics', 'business',\n",
       "       'entertainment', 'politics', 'business', 'sport', 'tech', 'tech',\n",
       "       'tech', 'politics', 'tech', 'entertainment', 'tech', 'politics',\n",
       "       'business', 'business', 'business', 'business', 'business',\n",
       "       'sport', 'entertainment', 'sport', 'sport', 'business', 'sport',\n",
       "       'business', 'tech', 'tech', 'business', 'tech', 'tech', 'tech',\n",
       "       'entertainment', 'business', 'tech', 'entertainment', 'tech',\n",
       "       'entertainment', 'business', 'business', 'business', 'business',\n",
       "       'business', 'business', 'entertainment', 'business', 'business',\n",
       "       'entertainment', 'tech', 'sport', 'sport', 'tech', 'tech', 'sport',\n",
       "       'entertainment', 'tech', 'business', 'politics', 'business',\n",
       "       'sport', 'business', 'sport', 'entertainment', 'business',\n",
       "       'business', 'business', 'business', 'entertainment', 'business',\n",
       "       'tech', 'entertainment', 'business', 'sport', 'tech', 'politics',\n",
       "       'politics', 'business', 'business', 'entertainment', 'sport',\n",
       "       'politics', 'sport', 'politics', 'sport', 'business', 'tech',\n",
       "       'entertainment', 'sport', 'politics', 'business', 'sport', 'tech',\n",
       "       'business', 'tech', 'sport', 'tech', 'sport', 'sport', 'politics',\n",
       "       'sport', 'business', 'business', 'business', 'business',\n",
       "       'business', 'entertainment', 'politics', 'tech', 'tech',\n",
       "       'business', 'politics', 'tech', 'business', 'business', 'politics',\n",
       "       'tech', 'business', 'tech', 'politics', 'business', 'business',\n",
       "       'business', 'sport', 'entertainment', 'business', 'politics',\n",
       "       'business', 'sport', 'tech', 'politics', 'tech', 'sport', 'sport',\n",
       "       'entertainment', 'politics', 'sport', 'sport', 'sport', 'sport',\n",
       "       'business', 'business', 'sport', 'business', 'entertainment',\n",
       "       'sport', 'sport', 'sport', 'tech', 'business', 'politics',\n",
       "       'entertainment', 'sport', 'sport', 'politics', 'business', 'tech',\n",
       "       'business', 'business', 'entertainment', 'sport', 'entertainment',\n",
       "       'politics', 'politics', 'tech', 'sport', 'tech', 'politics',\n",
       "       'tech', 'sport', 'entertainment', 'entertainment', 'business',\n",
       "       'politics', 'business', 'sport', 'politics', 'politics', 'sport',\n",
       "       'tech', 'entertainment', 'tech', 'politics', 'tech', 'tech',\n",
       "       'business', 'sport', 'sport', 'politics', 'sport', 'politics',\n",
       "       'sport', 'business', 'sport', 'sport', 'tech', 'business',\n",
       "       'business', 'tech', 'business', 'politics', 'tech', 'business',\n",
       "       'politics', 'entertainment', 'business', 'entertainment',\n",
       "       'business', 'business', 'tech', 'sport', 'tech', 'sport',\n",
       "       'entertainment', 'business', 'business', 'business', 'business',\n",
       "       'tech', 'entertainment', 'business', 'sport', 'politics',\n",
       "       'business', 'tech', 'tech', 'entertainment', 'tech', 'tech',\n",
       "       'sport', 'business', 'business', 'sport', 'business', 'tech',\n",
       "       'tech', 'politics', 'sport', 'business', 'sport', 'tech',\n",
       "       'entertainment', 'politics', 'tech', 'entertainment', 'tech',\n",
       "       'entertainment', 'sport', 'sport', 'business', 'politics', 'tech',\n",
       "       'tech', 'sport', 'tech', 'politics', 'sport', 'business', 'tech',\n",
       "       'entertainment', 'sport', 'politics', 'sport', 'tech', 'tech',\n",
       "       'entertainment', 'business', 'business'], dtype='<U13')"
      ]
     },
     "execution_count": 14,
     "metadata": {},
     "output_type": "execute_result"
    }
   ],
   "source": [
    "y_pred_MultinomialNB"
   ]
  },
  {
   "cell_type": "code",
   "execution_count": 15,
   "id": "7c4042f9",
   "metadata": {},
   "outputs": [
    {
     "data": {
      "text/plain": [
       "0.9431137724550899"
      ]
     },
     "execution_count": 15,
     "metadata": {},
     "output_type": "execute_result"
    }
   ],
   "source": [
    "metrics.accuracy_score(y_test,y_pred_MultinomialNB)"
   ]
  },
  {
   "cell_type": "code",
   "execution_count": 16,
   "id": "626ba3cc",
   "metadata": {},
   "outputs": [
    {
     "data": {
      "text/plain": [
       "array([[156,   0,   6,   1,   1],\n",
       "       [  4,  93,  10,   4,   2],\n",
       "       [  1,   0, 112,   0,   0],\n",
       "       [  0,   0,   0, 146,   0],\n",
       "       [  1,   0,   0,   8, 123]], dtype=int64)"
      ]
     },
     "execution_count": 16,
     "metadata": {},
     "output_type": "execute_result"
    }
   ],
   "source": [
    "metrics.confusion_matrix(y_test,y_pred_MultinomialNB)"
   ]
  },
  {
   "cell_type": "code",
   "execution_count": 17,
   "id": "70eed9f7",
   "metadata": {},
   "outputs": [
    {
     "name": "stdout",
     "output_type": "stream",
     "text": [
      "               precision    recall  f1-score   support\n",
      "\n",
      "     business       0.96      0.95      0.96       164\n",
      "entertainment       1.00      0.82      0.90       113\n",
      "     politics       0.88      0.99      0.93       113\n",
      "        sport       0.92      1.00      0.96       146\n",
      "         tech       0.98      0.93      0.95       132\n",
      "\n",
      "     accuracy                           0.94       668\n",
      "    macro avg       0.95      0.94      0.94       668\n",
      " weighted avg       0.95      0.94      0.94       668\n",
      "\n"
     ]
    }
   ],
   "source": [
    "print(metrics.classification_report(y_test,y_pred_MultinomialNB))"
   ]
  },
  {
   "cell_type": "code",
   "execution_count": 18,
   "id": "812d09ed",
   "metadata": {},
   "outputs": [
    {
     "data": {
      "text/plain": [
       "pandas.core.series.Series"
      ]
     },
     "execution_count": 18,
     "metadata": {},
     "output_type": "execute_result"
    }
   ],
   "source": [
    "type(y_test)"
   ]
  },
  {
   "cell_type": "code",
   "execution_count": 19,
   "id": "69a386ca",
   "metadata": {},
   "outputs": [
    {
     "name": "stdout",
     "output_type": "stream",
     "text": [
      "0.9464784865728262\n",
      "0.9394393972097405\n"
     ]
    },
    {
     "name": "stderr",
     "output_type": "stream",
     "text": [
      "C:\\ProgramData\\Anaconda3\\lib\\site-packages\\sklearn\\metrics\\_classification.py:1295: UserWarning: Note that pos_label (set to 'positive') is ignored when average != 'binary' (got 'macro'). You may use labels=[pos_label] to specify a single positive class.\n",
      "  warnings.warn(\"Note that pos_label (set to %r) is ignored when \"\n",
      "C:\\ProgramData\\Anaconda3\\lib\\site-packages\\sklearn\\metrics\\_classification.py:1295: UserWarning: Note that pos_label (set to 'positive') is ignored when average != 'binary' (got 'macro'). You may use labels=[pos_label] to specify a single positive class.\n",
      "  warnings.warn(\"Note that pos_label (set to %r) is ignored when \"\n"
     ]
    }
   ],
   "source": [
    "print(metrics.precision_score(y_test,y_pred_MultinomialNB,average=\"macro\",pos_label=\"positive\"))\n",
    "print(metrics.recall_score(y_test,y_pred_MultinomialNB,average=\"macro\",pos_label=\"positive\"))"
   ]
  },
  {
   "cell_type": "markdown",
   "id": "4425bf97",
   "metadata": {},
   "source": [
    "# GaussianNB"
   ]
  },
  {
   "cell_type": "code",
   "execution_count": 20,
   "id": "53f504f9",
   "metadata": {},
   "outputs": [],
   "source": [
    "gnb=GaussianNB()"
   ]
  },
  {
   "cell_type": "code",
   "execution_count": 21,
   "id": "9f7b71ce",
   "metadata": {},
   "outputs": [
    {
     "data": {
      "text/plain": [
       "scipy.sparse.csr.csr_matrix"
      ]
     },
     "execution_count": 21,
     "metadata": {},
     "output_type": "execute_result"
    }
   ],
   "source": [
    "type(x_train)"
   ]
  },
  {
   "cell_type": "code",
   "execution_count": 22,
   "id": "d6c46f0d",
   "metadata": {},
   "outputs": [],
   "source": [
    "x_train=(x_train).toarray()"
   ]
  },
  {
   "cell_type": "code",
   "execution_count": 23,
   "id": "e21b8386",
   "metadata": {},
   "outputs": [
    {
     "data": {
      "text/plain": [
       "GaussianNB()"
      ]
     },
     "execution_count": 23,
     "metadata": {},
     "output_type": "execute_result"
    }
   ],
   "source": [
    "gnb.fit(x_train, y_train)"
   ]
  },
  {
   "cell_type": "code",
   "execution_count": 24,
   "id": "f15c036e",
   "metadata": {},
   "outputs": [],
   "source": [
    "x_test=(x_test).toarray()"
   ]
  },
  {
   "cell_type": "code",
   "execution_count": 25,
   "id": "5968d222",
   "metadata": {},
   "outputs": [],
   "source": [
    "y_pred_Gaussian = gnb.predict(x_test)"
   ]
  },
  {
   "cell_type": "code",
   "execution_count": 26,
   "id": "8d7fbb9a",
   "metadata": {},
   "outputs": [
    {
     "data": {
      "text/plain": [
       "0.9101796407185628"
      ]
     },
     "execution_count": 26,
     "metadata": {},
     "output_type": "execute_result"
    }
   ],
   "source": [
    "metrics.accuracy_score(y_test,y_pred_Gaussian)"
   ]
  },
  {
   "cell_type": "code",
   "execution_count": 27,
   "id": "c181cb64",
   "metadata": {},
   "outputs": [
    {
     "name": "stdout",
     "output_type": "stream",
     "text": [
      "[[136   3  12   3  10]\n",
      " [  0 104   3   0   6]\n",
      " [  7   4 100   0   2]\n",
      " [  1   2   1 142   0]\n",
      " [  3   2   1   0 126]]\n"
     ]
    }
   ],
   "source": [
    "print(metrics.confusion_matrix(y_test,y_pred_Gaussian))"
   ]
  },
  {
   "cell_type": "code",
   "execution_count": 28,
   "id": "f9945386",
   "metadata": {
    "scrolled": true
   },
   "outputs": [
    {
     "name": "stdout",
     "output_type": "stream",
     "text": [
      "               precision    recall  f1-score   support\n",
      "\n",
      "     business       0.93      0.83      0.87       164\n",
      "entertainment       0.90      0.92      0.91       113\n",
      "     politics       0.85      0.88      0.87       113\n",
      "        sport       0.98      0.97      0.98       146\n",
      "         tech       0.88      0.95      0.91       132\n",
      "\n",
      "     accuracy                           0.91       668\n",
      "    macro avg       0.91      0.91      0.91       668\n",
      " weighted avg       0.91      0.91      0.91       668\n",
      "\n"
     ]
    }
   ],
   "source": [
    "m=metrics.classification_report(y_test,y_pred_Gaussian)\n",
    "print(m)"
   ]
  },
  {
   "cell_type": "markdown",
   "id": "84f48878",
   "metadata": {},
   "source": [
    "# Decision Tree Classifier"
   ]
  },
  {
   "cell_type": "code",
   "execution_count": 29,
   "id": "144a09b4",
   "metadata": {},
   "outputs": [],
   "source": [
    "from sklearn import tree\n",
    "model=tree.DecisionTreeClassifier()"
   ]
  },
  {
   "cell_type": "code",
   "execution_count": 30,
   "id": "2fbd6109",
   "metadata": {},
   "outputs": [
    {
     "data": {
      "text/plain": [
       "DecisionTreeClassifier()"
      ]
     },
     "execution_count": 30,
     "metadata": {},
     "output_type": "execute_result"
    }
   ],
   "source": [
    "model.fit(x_train,y_train)"
   ]
  },
  {
   "cell_type": "code",
   "execution_count": 31,
   "id": "4fc73b15",
   "metadata": {},
   "outputs": [],
   "source": [
    "y_pred_Dt=model.predict(x_test)"
   ]
  },
  {
   "cell_type": "code",
   "execution_count": 32,
   "id": "4a0edfef",
   "metadata": {},
   "outputs": [
    {
     "data": {
      "text/plain": [
       "0.7559880239520959"
      ]
     },
     "execution_count": 32,
     "metadata": {},
     "output_type": "execute_result"
    }
   ],
   "source": [
    "metrics.accuracy_score(y_test,y_pred_Dt)"
   ]
  },
  {
   "cell_type": "code",
   "execution_count": 33,
   "id": "2cf1c92d",
   "metadata": {},
   "outputs": [
    {
     "name": "stdout",
     "output_type": "stream",
     "text": [
      "               precision    recall  f1-score   support\n",
      "\n",
      "     business       0.73      0.69      0.71       164\n",
      "entertainment       0.77      0.76      0.76       113\n",
      "     politics       0.73      0.78      0.75       113\n",
      "        sport       0.78      0.87      0.82       146\n",
      "         tech       0.78      0.69      0.73       132\n",
      "\n",
      "     accuracy                           0.76       668\n",
      "    macro avg       0.76      0.76      0.76       668\n",
      " weighted avg       0.76      0.76      0.75       668\n",
      "\n"
     ]
    }
   ],
   "source": [
    "print(metrics.classification_report(y_test,y_pred_Dt))"
   ]
  },
  {
   "cell_type": "markdown",
   "id": "c4be853f",
   "metadata": {},
   "source": [
    "# Random Forest Classifier  "
   ]
  },
  {
   "cell_type": "code",
   "execution_count": 34,
   "id": "443bd34f",
   "metadata": {},
   "outputs": [],
   "source": [
    "from sklearn.ensemble import RandomForestClassifier  "
   ]
  },
  {
   "cell_type": "code",
   "execution_count": 35,
   "id": "72c04243",
   "metadata": {},
   "outputs": [],
   "source": [
    "classifier= RandomForestClassifier()"
   ]
  },
  {
   "cell_type": "code",
   "execution_count": 36,
   "id": "67557d8b",
   "metadata": {},
   "outputs": [
    {
     "data": {
      "text/plain": [
       "RandomForestClassifier()"
      ]
     },
     "execution_count": 36,
     "metadata": {},
     "output_type": "execute_result"
    }
   ],
   "source": [
    "classifier.fit(x_train, y_train)"
   ]
  },
  {
   "cell_type": "code",
   "execution_count": 37,
   "id": "cfcc8282",
   "metadata": {},
   "outputs": [],
   "source": [
    "y_pred_Rf= classifier.predict(x_test)"
   ]
  },
  {
   "cell_type": "code",
   "execution_count": 38,
   "id": "b2dd833c",
   "metadata": {},
   "outputs": [
    {
     "data": {
      "text/plain": [
       "0.9446107784431138"
      ]
     },
     "execution_count": 38,
     "metadata": {},
     "output_type": "execute_result"
    }
   ],
   "source": [
    "metrics.accuracy_score(y_test,y_pred_Rf)"
   ]
  },
  {
   "cell_type": "code",
   "execution_count": 39,
   "id": "44e6d0e4",
   "metadata": {},
   "outputs": [
    {
     "name": "stdout",
     "output_type": "stream",
     "text": [
      "               precision    recall  f1-score   support\n",
      "\n",
      "     business       0.90      0.96      0.93       164\n",
      "entertainment       0.98      0.89      0.94       113\n",
      "     politics       0.95      0.93      0.94       113\n",
      "        sport       0.95      1.00      0.97       146\n",
      "         tech       0.97      0.92      0.94       132\n",
      "\n",
      "     accuracy                           0.94       668\n",
      "    macro avg       0.95      0.94      0.94       668\n",
      " weighted avg       0.95      0.94      0.94       668\n",
      "\n"
     ]
    }
   ],
   "source": [
    "print(metrics.classification_report(y_test,y_pred_Rf))"
   ]
  },
  {
   "cell_type": "markdown",
   "id": "8cf0638f",
   "metadata": {},
   "source": [
    "# Xgboost"
   ]
  },
  {
   "cell_type": "code",
   "execution_count": 40,
   "id": "07c5a5fc",
   "metadata": {},
   "outputs": [
    {
     "name": "stdout",
     "output_type": "stream",
     "text": [
      "Requirement already satisfied: xgboost in c:\\programdata\\anaconda3\\lib\\site-packages (1.6.0)\n",
      "Requirement already satisfied: numpy in c:\\programdata\\anaconda3\\lib\\site-packages (from xgboost) (1.20.1)\n",
      "Requirement already satisfied: scipy in c:\\programdata\\anaconda3\\lib\\site-packages (from xgboost) (1.6.2)\n",
      "Note: you may need to restart the kernel to use updated packages.\n"
     ]
    }
   ],
   "source": [
    "pip install xgboost"
   ]
  },
  {
   "cell_type": "code",
   "execution_count": 41,
   "id": "9cb9198b",
   "metadata": {},
   "outputs": [],
   "source": [
    "import xgboost"
   ]
  },
  {
   "cell_type": "code",
   "execution_count": 42,
   "id": "6fa61851",
   "metadata": {},
   "outputs": [
    {
     "data": {
      "text/plain": [
       "{'objective': 'binary:logistic',\n",
       " 'use_label_encoder': False,\n",
       " 'base_score': None,\n",
       " 'booster': None,\n",
       " 'callbacks': None,\n",
       " 'colsample_bylevel': None,\n",
       " 'colsample_bynode': None,\n",
       " 'colsample_bytree': None,\n",
       " 'early_stopping_rounds': None,\n",
       " 'enable_categorical': False,\n",
       " 'eval_metric': None,\n",
       " 'gamma': None,\n",
       " 'gpu_id': None,\n",
       " 'grow_policy': None,\n",
       " 'importance_type': None,\n",
       " 'interaction_constraints': None,\n",
       " 'learning_rate': None,\n",
       " 'max_bin': None,\n",
       " 'max_cat_to_onehot': None,\n",
       " 'max_delta_step': None,\n",
       " 'max_depth': None,\n",
       " 'max_leaves': None,\n",
       " 'min_child_weight': None,\n",
       " 'missing': nan,\n",
       " 'monotone_constraints': None,\n",
       " 'n_estimators': 100,\n",
       " 'n_jobs': None,\n",
       " 'num_parallel_tree': None,\n",
       " 'predictor': None,\n",
       " 'random_state': None,\n",
       " 'reg_alpha': None,\n",
       " 'reg_lambda': None,\n",
       " 'sampling_method': None,\n",
       " 'scale_pos_weight': None,\n",
       " 'subsample': None,\n",
       " 'tree_method': None,\n",
       " 'validate_parameters': None,\n",
       " 'verbosity': None}"
      ]
     },
     "execution_count": 42,
     "metadata": {},
     "output_type": "execute_result"
    }
   ],
   "source": [
    "xgboost.XGBClassifier().get_params()"
   ]
  },
  {
   "cell_type": "code",
   "execution_count": 43,
   "id": "cb1d7ab9",
   "metadata": {},
   "outputs": [],
   "source": [
    "model_xgb=xgboost.XGBClassifier()"
   ]
  },
  {
   "cell_type": "code",
   "execution_count": 44,
   "id": "e23154ad",
   "metadata": {},
   "outputs": [
    {
     "data": {
      "text/plain": [
       "1617    entertainment\n",
       "1706    entertainment\n",
       "1639         business\n",
       "1221         business\n",
       "680          business\n",
       "            ...      \n",
       "1638            sport\n",
       "1095            sport\n",
       "1130             tech\n",
       "1294            sport\n",
       "860              tech\n",
       "Name: category, Length: 1557, dtype: object"
      ]
     },
     "execution_count": 44,
     "metadata": {},
     "output_type": "execute_result"
    }
   ],
   "source": [
    "y_train"
   ]
  },
  {
   "cell_type": "code",
   "execution_count": 45,
   "id": "874cb92f",
   "metadata": {},
   "outputs": [
    {
     "data": {
      "text/plain": [
       "sport            365\n",
       "business         346\n",
       "politics         304\n",
       "entertainment    273\n",
       "tech             269\n",
       "Name: category, dtype: int64"
      ]
     },
     "execution_count": 45,
     "metadata": {},
     "output_type": "execute_result"
    }
   ],
   "source": [
    "y_train.value_counts()"
   ]
  },
  {
   "cell_type": "code",
   "execution_count": 46,
   "id": "55c7de0e",
   "metadata": {},
   "outputs": [],
   "source": [
    "y_train_x=y_train.map({\"sport\":0,'business':1,'politics':2,'tech':3,'entertainment':4})"
   ]
  },
  {
   "cell_type": "code",
   "execution_count": 47,
   "id": "848b5d9c",
   "metadata": {},
   "outputs": [
    {
     "data": {
      "text/plain": [
       "XGBClassifier(base_score=0.5, booster='gbtree', callbacks=None,\n",
       "              colsample_bylevel=1, colsample_bynode=1, colsample_bytree=1,\n",
       "              early_stopping_rounds=None, enable_categorical=False,\n",
       "              eval_metric=None, gamma=0, gpu_id=-1, grow_policy='depthwise',\n",
       "              importance_type=None, interaction_constraints='',\n",
       "              learning_rate=0.300000012, max_bin=256, max_cat_to_onehot=4,\n",
       "              max_delta_step=0, max_depth=6, max_leaves=0, min_child_weight=1,\n",
       "              missing=nan, monotone_constraints='()', n_estimators=100,\n",
       "              n_jobs=0, num_parallel_tree=1, objective='multi:softprob',\n",
       "              predictor='auto', random_state=0, reg_alpha=0, ...)"
      ]
     },
     "execution_count": 47,
     "metadata": {},
     "output_type": "execute_result"
    }
   ],
   "source": [
    "model_xgb.fit(x_train,y_train_x)"
   ]
  },
  {
   "cell_type": "code",
   "execution_count": 48,
   "id": "d237e888",
   "metadata": {},
   "outputs": [],
   "source": [
    "y_pred_XGB= classifier.predict(x_test)"
   ]
  },
  {
   "cell_type": "code",
   "execution_count": 49,
   "id": "70a75d5f",
   "metadata": {},
   "outputs": [
    {
     "data": {
      "text/plain": [
       "0.9446107784431138"
      ]
     },
     "execution_count": 49,
     "metadata": {},
     "output_type": "execute_result"
    }
   ],
   "source": [
    "metrics.accuracy_score(y_test,y_pred_XGB)"
   ]
  },
  {
   "cell_type": "code",
   "execution_count": 50,
   "id": "06aa7fdb",
   "metadata": {},
   "outputs": [
    {
     "name": "stdout",
     "output_type": "stream",
     "text": [
      "               precision    recall  f1-score   support\n",
      "\n",
      "     business       0.90      0.96      0.93       164\n",
      "entertainment       0.98      0.89      0.94       113\n",
      "     politics       0.95      0.93      0.94       113\n",
      "        sport       0.95      1.00      0.97       146\n",
      "         tech       0.97      0.92      0.94       132\n",
      "\n",
      "     accuracy                           0.94       668\n",
      "    macro avg       0.95      0.94      0.94       668\n",
      " weighted avg       0.95      0.94      0.94       668\n",
      "\n",
      "               precision    recall  f1-score   support\n",
      "\n",
      "     business       0.96      0.95      0.96       164\n",
      "entertainment       1.00      0.82      0.90       113\n",
      "     politics       0.88      0.99      0.93       113\n",
      "        sport       0.92      1.00      0.96       146\n",
      "         tech       0.98      0.93      0.95       132\n",
      "\n",
      "     accuracy                           0.94       668\n",
      "    macro avg       0.95      0.94      0.94       668\n",
      " weighted avg       0.95      0.94      0.94       668\n",
      "\n",
      "               precision    recall  f1-score   support\n",
      "\n",
      "     business       0.90      0.96      0.93       164\n",
      "entertainment       0.98      0.89      0.94       113\n",
      "     politics       0.95      0.93      0.94       113\n",
      "        sport       0.95      1.00      0.97       146\n",
      "         tech       0.97      0.92      0.94       132\n",
      "\n",
      "     accuracy                           0.94       668\n",
      "    macro avg       0.95      0.94      0.94       668\n",
      " weighted avg       0.95      0.94      0.94       668\n",
      "\n",
      "               precision    recall  f1-score   support\n",
      "\n",
      "     business       0.73      0.69      0.71       164\n",
      "entertainment       0.77      0.76      0.76       113\n",
      "     politics       0.73      0.78      0.75       113\n",
      "        sport       0.78      0.87      0.82       146\n",
      "         tech       0.78      0.69      0.73       132\n",
      "\n",
      "     accuracy                           0.76       668\n",
      "    macro avg       0.76      0.76      0.76       668\n",
      " weighted avg       0.76      0.76      0.75       668\n",
      "\n",
      "               precision    recall  f1-score   support\n",
      "\n",
      "     business       0.93      0.83      0.87       164\n",
      "entertainment       0.90      0.92      0.91       113\n",
      "     politics       0.85      0.88      0.87       113\n",
      "        sport       0.98      0.97      0.98       146\n",
      "         tech       0.88      0.95      0.91       132\n",
      "\n",
      "     accuracy                           0.91       668\n",
      "    macro avg       0.91      0.91      0.91       668\n",
      " weighted avg       0.91      0.91      0.91       668\n",
      "\n"
     ]
    }
   ],
   "source": [
    "# Metrics\n",
    "print(metrics.classification_report(y_test,y_pred_XGB))\n",
    "print(metrics.classification_report(y_test,y_pred_MultinomialNB))\n",
    "print(metrics.classification_report(y_test,y_pred_Rf))\n",
    "print(metrics.classification_report(y_test,y_pred_Dt))\n",
    "print(metrics.classification_report(y_test,y_pred_Gaussian))"
   ]
  },
  {
   "cell_type": "code",
   "execution_count": 51,
   "id": "4d2fcb7e",
   "metadata": {},
   "outputs": [
    {
     "name": "stdout",
     "output_type": "stream",
     "text": [
      "0.9446107784431138\n",
      "0.7559880239520959\n",
      "0.9446107784431138\n",
      "0.9431137724550899\n",
      "0.9101796407185628\n"
     ]
    }
   ],
   "source": [
    "print(metrics.accuracy_score(y_test,y_pred_XGB))\n",
    "print(metrics.accuracy_score(y_test,y_pred_Dt))\n",
    "print(metrics.accuracy_score(y_test,y_pred_Rf))\n",
    "print(metrics.accuracy_score(y_test,y_pred_MultinomialNB))\n",
    "print(metrics.accuracy_score(y_test,y_pred_Gaussian))"
   ]
  },
  {
   "cell_type": "markdown",
   "id": "75c2ab25",
   "metadata": {},
   "source": [
    "## Prediction"
   ]
  },
  {
   "cell_type": "code",
   "execution_count": 52,
   "id": "06d9af76",
   "metadata": {},
   "outputs": [],
   "source": [
    "new_data = ['With the formal announcement by the Election Commission of the schedule for the election of the President of India, the discussion on who will be the next first citizen of the country has come to centre stage. Presidential elections have always drawn tremendous interest, especially since the emergence of a competitive party system with different parties being in power at the centre and in the states.']"
   ]
  },
  {
   "cell_type": "code",
   "execution_count": 53,
   "id": "58b7446c",
   "metadata": {},
   "outputs": [],
   "source": [
    "new_vector = vectorizer.transform(new_data)"
   ]
  },
  {
   "cell_type": "code",
   "execution_count": 54,
   "id": "7b434bb8",
   "metadata": {},
   "outputs": [],
   "source": [
    "pred = clf.predict(new_vector)"
   ]
  },
  {
   "cell_type": "code",
   "execution_count": 55,
   "id": "041834e3",
   "metadata": {},
   "outputs": [
    {
     "name": "stdout",
     "output_type": "stream",
     "text": [
      "['politics']\n"
     ]
    }
   ],
   "source": [
    "print(pred)"
   ]
  },
  {
   "cell_type": "code",
   "execution_count": null,
   "id": "1f687839",
   "metadata": {},
   "outputs": [],
   "source": []
  },
  {
   "cell_type": "code",
   "execution_count": null,
   "id": "9ea07b3e",
   "metadata": {},
   "outputs": [],
   "source": []
  }
 ],
 "metadata": {
  "kernelspec": {
   "display_name": "Python 3",
   "language": "python",
   "name": "python3"
  },
  "language_info": {
   "codemirror_mode": {
    "name": "ipython",
    "version": 3
   },
   "file_extension": ".py",
   "mimetype": "text/x-python",
   "name": "python",
   "nbconvert_exporter": "python",
   "pygments_lexer": "ipython3",
   "version": "3.8.8"
  }
 },
 "nbformat": 4,
 "nbformat_minor": 5
}
